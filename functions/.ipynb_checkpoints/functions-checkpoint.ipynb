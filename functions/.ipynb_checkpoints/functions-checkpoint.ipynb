{
 "cells": [
  {
   "cell_type": "markdown",
   "metadata": {},
   "source": [
    "# Functions\n",
    "Welcome to this lesson on Functions! You'll learn about:\n",
    "\n",
    "- Defining Functions\n",
    "- Variable Scope\n",
    "- Documentation\n",
    "- Lambda Expressions\n",
    "- Iterators and Generators\n",
    "\n",
    "You can think about functions as a way to take what you have already learned how to do, and put it in a holder that allows you to use it over and over again in an easy to use container."
   ]
  },
  {
   "cell_type": "markdown",
   "metadata": {},
   "source": [
    "------\n",
    "# Defining Functions\n",
    "Example of a function definition:\n",
    "\n",
    "```python\n",
    "def cylinder_volume(height, radius):\n",
    "    pi = 3.14159\n",
    "    return height * pi * radius ** 2\n",
    "```\n",
    "\n",
    "After defining the cylinder_volume function, we can call the function like this.\n",
    "\n",
    "`cylinder_volume(10, 3)`\n",
    "\n",
    "This is called a `function call statement.`\n",
    "\n",
    "A function definition includes several important parts.\n",
    "\n",
    "## Function Header\n",
    "Let's start with the function header, which is the first line of a function definition.\n",
    "\n",
    "1. The function header always starts with the `def` keyword, which indicates that this is a **function definition**.\n",
    "2. Then comes the **function name** (here, `cylinder_volume`), which follows the same naming conventions as variables. You can revisit the naming conventions below.\n",
    "3. Immediately after the name are parentheses that may include **arguments** separated by commas (here, `height` and `radius`). Arguments, or **parameters**, are values that are passed in as **inputs** when the function is called, and are used in the function body. If a function doesn't take arguments, these parentheses are left empty.\n",
    "4. The header always end with a colon `:`.\n",
    "\n",
    "## Function Body\n",
    "The rest of the function is contained in the body, which is where the function does its work.\n",
    "\n",
    "1. The **body** of a function is the code indented after the header line. Here, it's the two lines that define `pi` and `return` the volume.\n",
    "2. Within this body, we can refer to the **argument variables** and define new variables, which can only be used within these indented lines.\n",
    "3. The body will often include a `return` statement, which is used to send back an output value from the function to the statement that called the function. A `return` statement consists of the `return` keyword followed by an expression that is evaluated to get the output value for the function. If there is no return statement, the function simply returns None.\n",
    "\n",
    "## Naming Conventions for Functions\n",
    "Function names follow the same naming conventions as variables.\n",
    "\n",
    "1. Only use ordinary letters, numbers and underscores in your function names. They can’t have spaces, and need to start with a letter or underscore.\n",
    "2. You can’t use reserved words or built-in identifiers that have important purposes in Python, which you’ll learn about throughout this course. \n",
    "3. Try to use descriptive names that can help readers understand what the function does."
   ]
  },
  {
   "cell_type": "markdown",
   "metadata": {},
   "source": [
    "---------\n",
    "# Quiz\n",
    "\n",
    "Which of the below are acceptable ways to begin a function in Python? (Select all that apply.)\n",
    "\n",
    "- [ ] def my_function(arg1, arg2):\n",
    "- [ ] def do_stuff(arg1, arg2):\n",
    "- [ ] def my function(arg1, arg2)\n",
    "- [ ] def my_function(arg2, arg1, arg4)"
   ]
  },
  {
   "cell_type": "markdown",
   "metadata": {},
   "source": [
    "-----\n",
    "# Print vs. Return in Functions\n",
    "\n",
    "Here are two valid functions. One returns a value and one simply prints a value, without returning anything. Test run this code and experiment to understand the difference.\n",
    "\n",
    "```python\n",
    "# this prints something, but does not return anything\n",
    "def show_plus_ten(num):\n",
    "    print(num + 10)\n",
    "\n",
    "# this returns something\n",
    "def add_ten(num):\n",
    "    return(num + 10)\n",
    "\n",
    "print('Calling show_plus_ten...')\n",
    "return_value_1 = show_plus_ten(5)\n",
    "print('Done calling')\n",
    "print('This function returned: {}'.format(return_value_1))\n",
    "\n",
    "print('\\nCalling add_ten...')\n",
    "return_value_2 = add_ten(5)\n",
    "print('Done calling')\n",
    "print('This function returned: {}'.format(return_value_2))\n",
    "```"
   ]
  },
  {
   "cell_type": "markdown",
   "metadata": {},
   "source": [
    "----\n",
    "# Default Arguments\n",
    "We can add default arguments in a function to have default values for parameters that are unspecified in a function call.\n",
    "\n",
    "```python\n",
    "def cylinder_volume(height, radius=5):\n",
    "    pi = 3.14159\n",
    "    return height * pi * radius ** 2\n",
    "```\n",
    "\n",
    "In the example above, `radius` is set to 5 if that parameter is omitted in a function call. If we call `cylinder_volume(10)`, the function will use 10 as the height and 5 as the radius. However, if we call `cylinder_volume(10, 7)` the 7 will simply overwrite the default value of 5.\n",
    "\n",
    "Also notice here we are passing values to our arguments by position. It is possible to pass values in two ways - **by position** and **by name**. Each of these function calls are evaluated the same way.\n",
    "\n",
    "```python\n",
    "cylinder_volume(10, 7)  # pass in arguments by position\n",
    "cylinder_volume(height=10, radius=7)  # pass in arguments by name\n",
    "```"
   ]
  },
  {
   "cell_type": "markdown",
   "metadata": {},
   "source": [
    "# Quiz: Population Density Function\n",
    "\n",
    "Write a function named `population_density` that takes two arguments, `population` and `land_area`, and returns a population density calculated from those values. I've included two test cases that you can use to verify that your function works correctly. \n",
    "\n",
    "```python\n",
    "# write your function here\n",
    "\n",
    "\n",
    "\n",
    "\n",
    "# test cases for your function\n",
    "test1 = population_density(10, 1)\n",
    "expected_result1 = 10\n",
    "print(\"expected result: {}, actual result: {}\".format(expected_result1, test1))\n",
    "\n",
    "test2 = population_density(864816, 121.4)\n",
    "expected_result2 = 7123.6902801\n",
    "print(\"expected result: {}, actual result: {}\".format(expected_result2, test2))\n",
    "```"
   ]
  },
  {
   "cell_type": "markdown",
   "metadata": {},
   "source": [
    "# Quiz: readable_timedelta\n",
    "Write a function named `readable_timedelta`. The function should take one argument, an integer `days`, and return a string that says how many weeks and days that is. For example, calling the function and printing the result like this:\n",
    "\n",
    "```python\n",
    "print(readable_timedelta(10))\n",
    "```\n",
    "should output the following:\n",
    "\n",
    "```\n",
    "1 week(s) and 3 day(s).\n",
    "```\n",
    "\n",
    "```python\n",
    "# write your function here\n",
    "\n",
    "\n",
    "# test your function\n",
    "print(readable_timedelta(10))\n",
    "```"
   ]
  },
  {
   "cell_type": "code",
   "execution_count": null,
   "metadata": {},
   "outputs": [],
   "source": []
  }
 ],
 "metadata": {
  "kernelspec": {
   "display_name": "Python 3",
   "language": "python",
   "name": "python3"
  },
  "language_info": {
   "codemirror_mode": {
    "name": "ipython",
    "version": 3
   },
   "file_extension": ".py",
   "mimetype": "text/x-python",
   "name": "python",
   "nbconvert_exporter": "python",
   "pygments_lexer": "ipython3",
   "version": "3.7.3"
  }
 },
 "nbformat": 4,
 "nbformat_minor": 2
}
