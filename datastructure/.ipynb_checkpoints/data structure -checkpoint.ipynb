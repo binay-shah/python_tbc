{
 "cells": [
  {
   "cell_type": "markdown",
   "metadata": {},
   "source": [
    "# LIST\n",
    "\n",
    "A mutable ordered sequences of elements. A list is one of the most common and basic data structure in Python. \n",
    "\n",
    "You can create a list with square brackets. Lists can contain any mix and match of data types you have seen so far.\n",
    "\n",
    "```python\n",
    "list_of_random_things = [1, 3.4, 'a string', True]\n",
    "```\n",
    "\n",
    "This is a list of 4 elements. All ordered containers (like lists) are indexed in python using a starting index of 0. Therefore, to pull the first value from the above list, we can write:\n",
    "\n",
    "```python\n",
    ">>> list_of_random_things[0]\n",
    "1\n",
    "```\n",
    "\n",
    "```python\n",
    ">>> list_of_random_things[len(list_of_random_things)] \n",
    "---------------------------------------------------------------------------\n",
    "IndexError                                Traceback (most recent call last)\n",
    "<ipython-input-34-f88b03e5c60e> in <module>()\n",
    "----> 1 lst[len(lst)]\n",
    "\n",
    "IndexError: list index out of range\n",
    "```   \n",
    "\n",
    "Alternatively, you can index from the end of a list by using negative values, where -1 is the last element, -2 is the second to last element and so on.\n",
    "\n",
    "```python\n",
    ">>> list_of_random_things[len(list_of_random_things) - 1] \n",
    "True\n",
    "```\n",
    "\n",
    "```python\n",
    ">>> list_of_random_things[-1] \n",
    "True\n",
    ">>> list_of_random_things[-2] \n",
    "a string\n",
    "```"
   ]
  },
  {
   "cell_type": "code",
   "execution_count": 2,
   "metadata": {},
   "outputs": [
    {
     "name": "stdout",
     "output_type": "stream",
     "text": [
      "12\n",
      "Janauary\n",
      "Febraury\n",
      "August\n",
      "December\n"
     ]
    }
   ],
   "source": [
    "months = ['Janauary', 'Febraury', 'March', 'April', 'May', 'June', 'July', 'August', 'Septembet', 'October', 'November', 'December']\n",
    "\n",
    "print(len(months))\n",
    "print(months[0])\n",
    "print(months[1])\n",
    "print(months[7])\n",
    "print(months[-1])"
   ]
  },
  {
   "cell_type": "markdown",
   "metadata": {},
   "source": [
    "# Slice and Dice with Lists\n",
    "\n",
    "You can pull more than one value from a list at a time by using slicing. When using slicing, it is important to remember that the lower index is inclusive and the upper index is exclusive.\n",
    "\n",
    "Therefore, this:\n",
    "\n",
    "```python\n",
    ">>> list_of_random_things = [1, 3.4, 'a string', True]\n",
    ">>> list_of_random_things[1:2]\n",
    "[3.4]\n",
    "```\n",
    "\n",
    "will only return 3.4 in a list. Notice this is still different than just indexing a single element, because you get a list back with this indexing. The colon tells us to go from the starting value on the left of the colon up to, but not including, the element on the right.\n",
    "\n",
    "If you know that you want to start at the beginning, of the list you can also leave out this value.\n",
    "\n",
    "```python\n",
    ">>> list_of_random_things[:2]\n",
    "[1, 3.4]\n",
    "```\n",
    "\n",
    "or to return all of the elements to the end of the list, we can leave off a final element.\n",
    "\n",
    "```python\n",
    ">>> list_of_random_things[1:]\n",
    "[3.4, 'a string', True]\n",
    "```\n",
    "This type of indexing works exactly the same on strings, where the returned value will be a string."
   ]
  },
  {
   "cell_type": "code",
   "execution_count": 7,
   "metadata": {},
   "outputs": [
    {
     "name": "stdout",
     "output_type": "stream",
     "text": [
      "['July', 'August', 'Septembet']\n",
      "11 12\n",
      "the ['July', 'August', 'Septembet']\n"
     ]
    }
   ],
   "source": [
    "# slice third quarter of the year\n",
    "q3 = months[6:9]\n",
    "print(q3)\n",
    "\n",
    "# list datatype is similar to str, both support indexing, slicing\n",
    "greetings = \"Hello there\"\n",
    "\n",
    "print(len(greetings), len(months))\n",
    "\n",
    "print(greetings[6:9], months[6:9])\n"
   ]
  },
  {
   "cell_type": "markdown",
   "metadata": {},
   "source": [
    "# Are you `in` OR `not in`?\n",
    "You  can also use `in `and `not in` to return a bool of whether an element exists within our list, or if one string is a substring of another.\n",
    "\n",
    "```python\n",
    ">>>'this' in 'this is a string'\n",
    "True\n",
    ">>> 'in' in 'this is a string'\n",
    "True\n",
    ">>> 'isa' in 'this is a string'\n",
    "False\n",
    ">>> 5 not in [1, 2, 3, 4, 6]\n",
    "True\n",
    ">>> 5 in [1, 2, 3, 4, 6]\n",
    "False\n",
    "\n",
    "```"
   ]
  },
  {
   "cell_type": "code",
   "execution_count": 8,
   "metadata": {},
   "outputs": [
    {
     "name": "stdout",
     "output_type": "stream",
     "text": [
      "False True\n"
     ]
    }
   ],
   "source": [
    "print('Sunday' in months, 'Sunday' not in months)"
   ]
  },
  {
   "cell_type": "markdown",
   "metadata": {},
   "source": [
    "# Index Error"
   ]
  },
  {
   "cell_type": "code",
   "execution_count": 47,
   "metadata": {},
   "outputs": [
    {
     "ename": "IndexError",
     "evalue": "list index out of range",
     "output_type": "error",
     "traceback": [
      "\u001b[1;31m---------------------------------------------------------------------------\u001b[0m",
      "\u001b[1;31mIndexError\u001b[0m                                Traceback (most recent call last)",
      "\u001b[1;32m<ipython-input-47-368980051d45>\u001b[0m in \u001b[0;36m<module>\u001b[1;34m\u001b[0m\n\u001b[1;32m----> 1\u001b[1;33m \u001b[0mmonths\u001b[0m\u001b[1;33m[\u001b[0m\u001b[1;36m25\u001b[0m\u001b[1;33m]\u001b[0m\u001b[1;33m\u001b[0m\u001b[1;33m\u001b[0m\u001b[0m\n\u001b[0m",
      "\u001b[1;31mIndexError\u001b[0m: list index out of range"
     ]
    }
   ],
   "source": [
    "months[25]"
   ]
  },
  {
   "cell_type": "markdown",
   "metadata": {},
   "source": [
    "## Mutability and Order\n",
    "**Mutability** is about whether or not we can change an object once it has been created. If an object (like a list or string) can be changed (like a list can), then it is called **mutable**. However, if an object cannot be changed with creating a completely new object (like strings), then the object is considered **immutable**."
   ]
  },
  {
   "cell_type": "code",
   "execution_count": 50,
   "metadata": {},
   "outputs": [
    {
     "name": "stdout",
     "output_type": "stream",
     "text": [
      "['one', 2, 3, 4, 5]\n"
     ]
    }
   ],
   "source": [
    "my_lst = [1, 2, 3, 4, 5]\n",
    "my_lst[0] = 'one'\n",
    "print(my_lst)"
   ]
  },
  {
   "cell_type": "markdown",
   "metadata": {},
   "source": [
    "As shown above, you are able to replace 1 with 'one' in the above list. This is because lists are mutable.\n",
    "\n",
    "However, the following does not work:"
   ]
  },
  {
   "cell_type": "code",
   "execution_count": 52,
   "metadata": {},
   "outputs": [
    {
     "ename": "TypeError",
     "evalue": "'str' object does not support item assignment",
     "output_type": "error",
     "traceback": [
      "\u001b[1;31m---------------------------------------------------------------------------\u001b[0m",
      "\u001b[1;31mTypeError\u001b[0m                                 Traceback (most recent call last)",
      "\u001b[1;32m<ipython-input-52-023028cc6e1a>\u001b[0m in \u001b[0;36m<module>\u001b[1;34m\u001b[0m\n\u001b[0;32m      1\u001b[0m \u001b[0mgreeting\u001b[0m \u001b[1;33m=\u001b[0m \u001b[1;34m\"Hello there\"\u001b[0m\u001b[1;33m\u001b[0m\u001b[1;33m\u001b[0m\u001b[0m\n\u001b[1;32m----> 2\u001b[1;33m \u001b[0mgreeting\u001b[0m\u001b[1;33m[\u001b[0m\u001b[1;36m0\u001b[0m\u001b[1;33m]\u001b[0m \u001b[1;33m=\u001b[0m \u001b[1;34m'M'\u001b[0m\u001b[1;33m\u001b[0m\u001b[1;33m\u001b[0m\u001b[0m\n\u001b[0m",
      "\u001b[1;31mTypeError\u001b[0m: 'str' object does not support item assignment"
     ]
    }
   ],
   "source": [
    "greeting = \"Hello there\"\n",
    "greeting[0] = 'M'"
   ]
  },
  {
   "cell_type": "markdown",
   "metadata": {},
   "source": [
    "This is because strings are **immutable**. This means to change this string, you will need to create a completely new string.\n",
    "\n",
    "There are two things to keep in mind for each of the data types you are using:\n",
    "\n",
    "Are they **mutable**?\n",
    "Are they **ordered**?\n",
    "**Order** is about whether the position of an element in the object can be used to access the element. **Both strings and lists are ordered**. We can use the order to access parts of a list and string.\n",
    "\n",
    "However, you will see some data types in the next sections that will be unordered. For each of the upcoming data structures you see, it is useful to understand how you index, are they mutable, and are they ordered. Knowing this about the data structure is really useful!\n",
    "\n",
    "Additionally, you will see how these each have different methods, so why you would use one data structure vs. another is largely dependent on these properties, and what you can easily do with it!"
   ]
  },
  {
   "cell_type": "markdown",
   "metadata": {},
   "source": [
    "## Quiz: List Indexing\n",
    "\n",
    "Use list indexing to determine how many days are in a particular month based on the integer variable `month`, and store that value in the integer variable `num_days`. For example, if `month` is 8, `num_days` should be set to 31, since the eighth month, August, has 31 days.\n",
    "\n",
    "Remember to account for zero-based indexing!\n",
    "\n",
    "```python\n",
    "month = 8\n",
    "days_in_month = [31,28,31,30,31,30,31,31,30,31,30,31]\n",
    "\n",
    "# use list indexing to determine the number of days in month\n",
    "\n",
    "\n",
    "print(num_days)\n",
    "```\n",
    "\n"
   ]
  },
  {
   "cell_type": "markdown",
   "metadata": {},
   "source": [
    "# Quiz: Slicing Lists\n",
    "\n",
    "Select the three most recent dates from this list using list slicing notation. Hint: negative indexes work in slices!\n",
    "\n",
    "```python\n",
    "eclipse_dates = ['June 21, 2001', 'December 4, 2002', 'November 23, 2003',\n",
    "                 'March 29, 2006', 'August 1, 2008', 'July 22, 2009',\n",
    "                 'July 11, 2010', 'November 13, 2012', 'March 20, 2015',\n",
    "                 'March 9, 2016']\n",
    "                 \n",
    "                 \n",
    "# TODO: Modify this line so it prints the last three elements of the list\n",
    "print(eclipse_dates)\n",
    "```"
   ]
  },
  {
   "cell_type": "markdown",
   "metadata": {},
   "source": [
    "## Useful Functions for Lists I\n",
    "\n",
    "- `len()` returns how many elements are in a list.\n",
    "- `max()` returns the greatest element of the list. How the greatest element is determined depends on what type objects are in the list. The maximum element in a list of numbers is the largest number. The maximum elements in a list of strings is element that would occur last if the list were sorted alphabetically. This works because the the max function is defined in terms of the greater than comparison operator. The max function is undefined for lists that contain elements from different, incomparable types.\n",
    "- `min()` returns the smallest element in a list. min is the opposite of max, which returns the largest element in a list.\n",
    "- `sorted()` returns a copy of a list in order from smallest to largest, leaving the list unchanged.\n",
    "\n",
    "```python\n",
    "marks = [16, 18, 19, 10, 8, 9, 14,13,17,20, 5]\n",
    "print(len(marks))\n",
    "print(max(marks))\n",
    "print(min(marks))\n",
    "print(sorted(marks))\n",
    "```"
   ]
  },
  {
   "cell_type": "markdown",
   "metadata": {},
   "source": [
    "------------\n",
    "# Useful Functions for Lists II\n",
    "\n",
    "**`join` method**\n",
    "\n",
    "Join is a string method that takes a list of strings as an argument, and returns a string consisting of the list elements joined by a separator string.\n",
    "\n",
    "```python\n",
    "new_str = \"\\n\".join([\"fore\", \"aft\", \"starboard\", \"port\"])\n",
    "print(new_str)\n",
    "```\n",
    "\n",
    "Output:\n",
    "```python\n",
    "fore\n",
    "aft\n",
    "starboard\n",
    "port\n",
    "```\n",
    "\n",
    "In this example we use the string \"\\n\" as the separator so that there is a newline between each element. We can also use other strings as separators with .join. Here we use a hyphen.\n",
    "\n",
    "```python\n",
    "name = \"-\".join([\"García\", \"O'Kelly\"])\n",
    "print(name)\n",
    "```\n",
    "\n",
    "Output:\n",
    "\n",
    "```python\n",
    "García-O'Kelly\n",
    "```\n",
    "\n",
    "**append method**\n",
    "\n",
    "A helpful method called append adds an element to the end of a list.\n",
    "\n",
    "```python\n",
    "letters = ['a', 'b', 'c', 'd']\n",
    "letters.append('z')\n",
    "print(letters)\n",
    "```\n",
    "\n",
    "Output:\n",
    "\n",
    "`['a', 'b', 'c', 'd', 'z']`"
   ]
  },
  {
   "cell_type": "markdown",
   "metadata": {},
   "source": [
    "------------------------------\n",
    "# Quiz: len, max, min, and Lists\n",
    "\n",
    "What would the output of the following code be? \n",
    "\n",
    "```python\n",
    "a = [1, 5, 8]\n",
    "b = [2, 6, 9, 10]\n",
    "c = [100, 200]\n",
    "\n",
    "print(max([len(a), len(b), len(c)]))\n",
    "print(min([len(a), len(b), len(c)]))\n",
    "```"
   ]
  },
  {
   "cell_type": "markdown",
   "metadata": {},
   "source": [
    "---------------------------\n",
    "# Quiz: sorted, join, and Lists\n",
    "\n",
    "What would the output of the following code be?\n",
    "\n",
    "```python\n",
    "names = [\"Carol\", \"Albert\", \"Ben\", \"Donna\"]\n",
    "print(\" & \".join(sorted(names)))\n",
    "```\n"
   ]
  },
  {
   "cell_type": "markdown",
   "metadata": {},
   "source": [
    "# Tuples\n",
    "A tuple is another useful container. It's a data type for immutable ordered sequences of elements. They are often used to store related pieces of information. Consider this example involving latitude and longitude:\n",
    "\n",
    "```python\n",
    "location = (13.4125, 103.866667)\n",
    "print(\"Latitude:\", location[0])\n",
    "print(\"Longitude:\", location[1])\n",
    "```\n",
    "\n",
    "Tuples are similar to lists in that they store an ordered collection of objects which can be accessed by their indices. Unlike lists, however, tuples are immutable - you can't add and remove items from tuples, or sort them in place.\n",
    "\n",
    "Tuples can also be used to assign multiple variables in a compact way.\n",
    "```python\n",
    "dimensions = 52, 40, 100\n",
    "length, width, height = dimensions\n",
    "print(\"The dimensions are {} x {} x {}\".format(length, width, height))\n",
    "```\n",
    "The parentheses are optional when defining tuples, and programmers frequently omit them if parentheses don't clarify the code.\n",
    "\n",
    "\n",
    "In the second line, three variables are assigned from the content of the tuple dimensions. This is called tuple unpacking. You can use tuple unpacking to assign the information from a tuple into multiple variables without having to access them one by one and make multiple assignment statements.\n",
    "\n",
    "If we won't need to use dimensions directly, we could shorten those two lines of code into a single line that assigns three variables in one go!\n",
    "\n",
    "```python\n",
    "length, width, height = 52, 40, 100\n",
    "print(\"The dimensions are {} x {} x {}\".format(length, width, height))\n",
    "```"
   ]
  },
  {
   "cell_type": "markdown",
   "metadata": {},
   "source": [
    "# Quiz: tuple\n",
    "\n",
    "What would the output of the following code be? (Treat the comma in the multiple choice answers as newlines.)\n",
    "\n",
    "```python\n",
    "tuple_a = 1, 2\n",
    "tuple_b = (1, 2)\n",
    "\n",
    "print(tuple_a == tuple_b)\n",
    "print(tuple_a[1])\n",
    "```"
   ]
  },
  {
   "cell_type": "markdown",
   "metadata": {},
   "source": [
    "# Sets\n",
    "A **set** is a data type for mutable unordered collections of unique elements. One application of a set is to quickly remove duplicates from a list.\n",
    "\n",
    "```python\n",
    "numbers = [1, 2, 6, 3, 1, 1, 6]\n",
    "unique_nums = set(numbers)\n",
    "print(unique_nums)\n",
    "```\n",
    "This would output:\n",
    "\n",
    "`{1, 2, 3, 6}`\n",
    "\n",
    "Sets support the `in` operator the same as lists do. You can add elements to sets using the add method, and remove elements using the pop method, similar to lists. Although, when you `pop` an element from a set, a random element is removed. Remember that sets, unlike lists, are unordered so there is no \"last element\".\n",
    "\n",
    "```python\n",
    "fruit = {\"apple\", \"banana\", \"orange\", \"grapefruit\"}  # define a set\n",
    "\n",
    "print(\"watermelon\" in fruit)  # check for element\n",
    "\n",
    "fruit.add(\"watermelon\")  # add an element\n",
    "print(fruit)\n",
    "\n",
    "print(fruit.pop())  # remove a random element\n",
    "print(fruit)\n",
    "```\n",
    "This outputs:\n",
    "\n",
    "```python\n",
    "False\n",
    "{'grapefruit', 'orange', 'watermelon', 'banana', 'apple'}\n",
    "grapefruit\n",
    "{'orange', 'watermelon', 'banana', 'apple'}\n",
    "```\n",
    "Other operations you can perform with sets include those of mathematical sets. Methods like union, intersection, and difference are easy to perform with sets, and are much faster than such operators with other containers."
   ]
  },
  {
   "cell_type": "markdown",
   "metadata": {},
   "source": [
    "# Quiz: list to set\n",
    "\n",
    "What would the output of the following code be?\n",
    "\n",
    "```python\n",
    "a = [1, 2, 2, 3, 3, 3, 4, 4, 4, 4]\n",
    "b = set(a)\n",
    "print(len(a) - len(b))\n",
    "```\n",
    "- [ ] 10\n",
    "- [ ] 6\n",
    "- [ ] 4\n",
    "- [ ] Error"
   ]
  },
  {
   "cell_type": "markdown",
   "metadata": {},
   "source": [
    "-------------------------\n",
    "# Quiz: add and pop\n",
    "    \n",
    "Consider the following code:\n",
    "\n",
    "```python\n",
    "a = [1, 2, 2, 3, 3, 3, 4, 4, 4, 4]\n",
    "b = set(a)\n",
    "b.add(5)\n",
    "b.pop()\n",
    "```\n",
    "After executing this code, will the number 5 be a part of the set b?\n",
    "\n",
    "- [ ] Yes\n",
    "- [ ] No\n",
    "- [ ] Maybe\n",
    "- [ ] No, an error is generated"
   ]
  },
  {
   "cell_type": "markdown",
   "metadata": {},
   "source": [
    "-------------------------------\n",
    "# Dictionaries And Identity Operators\n",
    "\n",
    "## Dictionaries\n",
    "A **dictionary** is a mutable data type that stores mappings of unique keys to values. Here's a dictionary that stores elements and their atomic numbers.\n",
    "```python\n",
    "elements = {\"hydrogen\": 1, \"helium\": 2, \"carbon\": 6}\n",
    "```\n",
    "Dictionaries can have keys of any immutable type, like integers or tuples, not just strings. It's not even necessary for every key to have the same type! We can look up values or insert new values in the dictionary using square brackets that enclose the key.\n",
    "```python\n",
    "print(elements[\"helium\"])  # print the value mapped to \"helium\"\n",
    "elements[\"lithium\"] = 3  # insert \"lithium\" with a value of 3 into the dictionary\n",
    "```\n",
    "We can check whether a value is in a dictionary the same way we check whether a value is in a list or set with the `in` keyword. Dicts have a related method that's also useful, `get`. get looks up values in a dictionary, but unlike square brackets, get returns None (or a default value of your choice) if the key isn't found.\n",
    "```python\n",
    "print(\"carbon\" in elements)\n",
    "print(elements.get(\"dilithium\"))\n",
    "```\n",
    "This would output:\n",
    "```\n",
    "True\n",
    "None\n",
    "```\n",
    "Carbon is in the dictionary, so True is printed. Dilithium isn’t in our dictionary so None is returned by get and then printed. If you expect lookups to sometimes fail, get might be a better tool than normal square bracket lookups because errors can crash your program.\n",
    "\n",
    "## Identity Operators\n",
    "|Keyword |Operator|\n",
    "|:-------|:--------|\n",
    "|`is`    |evaluates if both sides have the same identity|\n",
    "|`is not`|evaluates if both sides have different identities|\n",
    "\n",
    "You can check if a key returned None with the `is` operator. You can check for the opposite using `is not`.\n",
    "\n",
    "```python\n",
    "n = elements.get(\"dilithium\")\n",
    "print(n is None)\n",
    "print(n is not None)\n",
    "```\n",
    "This would output:\n",
    "\n",
    "```\n",
    "True\n",
    "False\n",
    "```"
   ]
  },
  {
   "cell_type": "markdown",
   "metadata": {},
   "source": [
    "# Quiz: Define a Dictionary\n",
    "\n",
    "\n",
    "```python\n",
    "# Define a Dictionary, population,\n",
    "# that provides information\n",
    "# on the world's largest cities.\n",
    "# The key is the name of a city\n",
    "# (a string), and the associated\n",
    "# value is its population in\n",
    "# millions of people.\n",
    "\n",
    "#   Key     |   Value\n",
    "# Shanghai  |   17.8\n",
    "# Istanbul  |   13.3\n",
    "# Karachi   |   13.0\n",
    "# Mumbai    |   12.5\n",
    "```\n",
    "\n",
    "------------\n"
   ]
  },
  {
   "cell_type": "markdown",
   "metadata": {},
   "source": [
    "# Quiz \n",
    " \n",
    "Which of these could be used as the key for a dictionary? (Choose all that apply.) Hint: Dictionary keys must be immutable, that is, they must be of a type that is not modifiable.\n",
    "\n",
    "- [ ] str\n",
    "- [ ] list\n",
    "- [ ] int\n",
    "- [ ] float\n",
    "\n",
    "    "
   ]
  },
  {
   "cell_type": "markdown",
   "metadata": {},
   "source": [
    "# Quiz\n",
    "\n",
    "What happens if we look up a value that isn't in the dictionary? Create a test dictionary and use the square brackets to look up a value that you haven't defined. What happens?\n",
    "\n",
    "- [ ] The lookup return `None`\n",
    "- [ ] The key is added to the dictionary with a default value of None\n",
    "- [ ] A `KeyError` occurs\n",
    "- [ ] Python searches the internet for an appropriate value\n",
    "\n",
    "## get with a Default Value\n",
    "Dictionaries have a related method that's also useful, `get()`. `get()` looks up values in a dictionary, but unlike looking up values with square brackets, `get()` returns `None` (or a default value of your choice) if the key isn't found. If you expect lookups to sometimes fail, `get()` might be a better tool than normal square bracket lookups.\n",
    "\n",
    "```python\n",
    ">>> elements.get('dilithium')\n",
    "None\n",
    ">>> elements['dilithium']\n",
    "KeyError: 'dilithium'\n",
    ">>> elements.get('kryptonite', 'There\\'s no such element!')\n",
    "```\n",
    "\"There's no such element!\"\n",
    "In the last example we specified a default value (the string 'There's no such element!') to be returned instead of None when the key is not found.\n"
   ]
  },
  {
   "cell_type": "markdown",
   "metadata": {},
   "source": [
    "-------\n",
    "# Quiz\n",
    "\n",
    "What will the output of the following code be? (Treat the commas in the multiple choice answers as newlines.)\n",
    "\n",
    "```python\n",
    "a = [1, 2, 3]\n",
    "b = a\n",
    "c = [1, 2, 3]\n",
    "\n",
    "print(a == b)\n",
    "print(a is b)\n",
    "print(a == c)\n",
    "print(a is c)\n",
    "```\n",
    "\n",
    "- [ ] True, True, True, True\n",
    "- [ ] True, False, True, False\n",
    "- [ ] True, True, True, False\n",
    "- [ ] True, True, False, False\n",
    "\n",
    "### Solution\n",
    "\n",
    "List a and list b are equal and identical. List c is equal to a (and b for that matter) since they have the same contents. But a and c (and b for that matter, again) point to two different objects, i.e., they aren't identical objects. That is the difference between checking for equality vs. identity."
   ]
  },
  {
   "cell_type": "markdown",
   "metadata": {},
   "source": [
    "------\n",
    "# Quiz \n",
    "\n",
    "```python\n",
    "animals = {'dogs': [20, 10, 15, 8, 32, 15], \n",
    " 'cats': [3,4,2,8,2,4], \n",
    " 'rabbits': [2, 3, 3], \n",
    " 'fish': [0.3, 0.5, 0.8, 0.3, 1]}\n",
    "```\n",
    "\n",
    "- The data type of the keys in the dictionary.\n",
    "- The data type of the values in the dictionary.\n",
    "- The result of `animals['dogs']`.\n",
    "- The result of `animals['dogs'][3]`.\n",
    "- The result of `animals[3]`\n",
    "- The result of `animals['fish']`"
   ]
  },
  {
   "cell_type": "markdown",
   "metadata": {},
   "source": [
    "-------------\n",
    "# Quiz\n",
    "\n",
    "Which of the following statements about tuples are true? Select all that apply.\n",
    "\n",
    "- [ ] A tuple is a mutable data structure\n",
    "- [ ] A tuple is ordered data structure\n",
    "- [ ] A tuple can be indexed and sliced like a list\n",
    "- [ ] A tuple is defined by listing a sequence of elements separated by commas and contained within curly braces `{}`\n",
    "\n",
    "### Solution\n",
    "A tuple is an immutable, ordered data structure that can be indexed and sliced like a list. Tuples are defined by listing a sequence of elements separated by commas, optionally contained within parentheses: ()."
   ]
  },
  {
   "cell_type": "markdown",
   "metadata": {},
   "source": [
    "------\n",
    "# Quiz\n",
    "Which of the following statements about sets are true? Select all that apply.\n",
    "\n",
    "- [ ] A set is a mutable data structure\n",
    "- [ ] A set is ordered data structure\n",
    "- [ ] A set can be indexed and sliced like a list\n",
    "- [ ] A set does not contain duplicate elements\n",
    "\n",
    "\n",
    "### Solution\n",
    " A set is a mutable data structure - you can modify the elements in a set with methods like add and pop. A set is an unordered data structure, so you can't index and slice elements like a list; there is no sequence of positions to index with!\n",
    "\n",
    "One of the key properties of a set is that it only contains unique elements. So even if you create a new set with a list of elements that contains duplicates, Python will remove the duplicates when creating the set automatically.\n",
    "\n"
   ]
  },
  {
   "cell_type": "markdown",
   "metadata": {},
   "source": [
    "----\n",
    "# Quiz\n",
    "\n",
    "Is the following statement true or false?\n",
    "A set is the only data structure defined with curly braces: {}\n",
    "\n",
    "- [ ] False\n",
    "- [ ] True\n",
    "\n",
    "### Solution\n",
    "\n",
    "A set is defined with curly braces, {}, but it isn't the only data structure that does; dictionaries do as well! However, the difference is that a set is defined as a sequence of elements separated by commas:\n",
    "set_example = {element1, element2, element3}\n",
    "while a dictionary is defined as a sequence of key, value pairs marked with colons, separated by commas:\n",
    "dict_example = {key1: value1, key2: value2, key3: value3}.\n",
    "\n",
    "Note: if you define a variable with an empty set of curly braces like this: a = {}, Python will assign an empty dictionary to that variable. You can always use set() and dict() to define empty sets and dictionaries as well."
   ]
  },
  {
   "cell_type": "markdown",
   "metadata": {},
   "source": [
    "-----------\n",
    "# Quiz\n",
    "\n",
    "Which of the following statements about dictionaries are true? Select all that apply.\n",
    "\n",
    "- [ ] A dictionary is mutable data structure\n",
    "- [ ] A dictionary is ordered data structure\n",
    "- [ ] A dictionary can be indexed using keys\n",
    "- [ ] The keys of the dictionary are unique\n",
    "- [ ] Any data type ca be used as a key in a dictionary\n",
    "\n",
    "### Solution\n",
    "\n",
    "A dictionary is a mutable, unordered data structure that contains mappings of keys to values. Because these keys are used to index values, they must be unique and immutable. For example, a string or tuple can be used as the key of a dictionary, but if you try to use a list as a key of a dictionary, you will get an error."
   ]
  },
  {
   "cell_type": "markdown",
   "metadata": {},
   "source": [
    "# Quiz\n",
    "\n",
    "Quiz: Identify the Problem\n",
    "Run the code below - it should break. Take a look at the error message and try to figure out what the issue is. Then, answer the quiz question below the editor.\n",
    "\n",
    "```python\n",
    "# invalid dictionary - this should break\n",
    "room_numbers = {\n",
    "    ['Freddie', 'Jen']: 403,\n",
    "    ['Ned', 'Keith']: 391,\n",
    "    ['Kristin', 'Jazzmyne']: 411,\n",
    "    ['Eugene', 'Zach']: 395\n",
    "}\n",
    "```\n",
    "\n",
    "What's wrong with the code above?\n",
    "\n",
    "- [ ] A dictionary cannot use a container for its \n",
    "- [ ] A dictionary is using a mutable datatype for its keys\n",
    "- [ ] There are too many values in each dictionary key\n",
    "\n",
    "### Solution\n",
    "\n",
    "The error you saw was `TypeError: unhashable type: 'list'`. In Python, any immutable object (such as an integer, boolean, string, tuple) is **hashable**, meaning its value does not change during its lifetime. This allows Python to create a unique hash value to identify it, which can be used by dictionaries to track unique keys and sets to track unique values. This is why Python requires us to use immutable datatypes for the keys in a dictionary.\n",
    "\n",
    "The lists used in the code above are NOT immutable, and thus cannot be hashed and used as dictionary keys. Can you try modifying the datatype of the keys in the dictionary above to make the code run without errors? Hint: What other data structure can you use to store a sequence of values and is immutable?"
   ]
  },
  {
   "cell_type": "markdown",
   "metadata": {},
   "source": [
    "-----------\n",
    "## Compound Data Structures\n",
    "\n",
    "We can include containers in other containers to create compound data structures. For example, this dictionary maps keys to values that are also dictionaries!\n",
    "\n",
    "```python\n",
    "elements = {\"hydrogen\": {\"number\": 1,\n",
    "                         \"weight\": 1.00794,\n",
    "                         \"symbol\": \"H\"},\n",
    "              \"helium\": {\"number\": 2,\n",
    "                         \"weight\": 4.002602,\n",
    "                         \"symbol\": \"He\n",
    "```\n",
    "\n",
    "We can access elements in this nested dictionary like this.\n",
    "\n",
    "```python\n",
    "helium = elements[\"helium\"]  # get the helium dictionary\n",
    "hydrogen_weight = elements[\"hydrogen\"][\"weight\"]  # get hydrogen's weight\n",
    "```\n",
    "\n",
    "You can also add a new key to the element dictionary.\n",
    "\n",
    "```python\n",
    "oxygen = {\"number\":8,\"weight\":15.999,\"symbol\":\"O\"}  # create a new oxygen dictionary \n",
    "elements[\"oxygen\"] = oxygen  # assign 'oxygen' as a key to the elements dictionary\n",
    "print('elements = ', elements)\n",
    "```\n",
    "\n",
    "Output is:\n",
    "\n",
    "```python\n",
    "elements =  {\"hydrogen\": {\"number\": 1,\n",
    "                          \"weight\": 1.00794,\n",
    "                          \"symbol\": 'H'},\n",
    "               \"helium\": {\"number\": 2,\n",
    "                          \"weight\": 4.002602,\n",
    "                          \"symbol\": \"He\"}, \n",
    "               \"oxygen\": {\"number\": 8, \n",
    "                          \"weight\": 15.999, \n",
    "                          \"symbol\": \"O\"}}\n",
    "```"
   ]
  },
  {
   "cell_type": "markdown",
   "metadata": {},
   "source": [
    "# Quiz: Adding Values to Nested Dictionaries\n",
    "\n",
    "Try your hand at working with nested dictionaries. Add another entry, 'is_noble_gas,' to each dictionary in the elements dictionary. After inserting the new entries you should be able to perform these lookups:\n",
    "\n",
    "```python\n",
    ">>> print(elements['hydrogen']['is_noble_gas'])\n",
    "False\n",
    ">>> print(elements['helium']['is_noble_gas'])\n",
    "True\n",
    "```\n",
    "\n",
    "```python\n",
    "elements = {'hydrogen': {'number': 1, 'weight': 1.00794, 'symbol': 'H'},\n",
    "            'helium': {'number': 2, 'weight': 4.002602, 'symbol': 'He'}}\n",
    "\n",
    "# todo: Add an 'is_noble_gas' entry to the hydrogen and helium dictionaries\n",
    "# hint: helium is a noble gas, hydrogen isn't\n",
    "```"
   ]
  },
  {
   "cell_type": "markdown",
   "metadata": {},
   "source": [
    "# Collections\n",
    "When we have a group of data we can think about it as a collection (of data elements). In this lesson, we have seen many different data structures that Python provides for storing, accessing and manipulating collections of data. In particular, we have seen lists, sets, and dictionaries.\n",
    "\n",
    "In the next few quizzes, you will have a chance to practice and review the properties of lists, sets, and dictionaries."
   ]
  },
  {
   "cell_type": "markdown",
   "metadata": {},
   "source": [
    "Check the attributes of a collection for which using a Python list would be appropriate.\n",
    "\n",
    "- [ ] The order in which you add items doesn't matter\n",
    "- [ ] Items are always indexed with numbers starting at 0\n",
    "- [ ] Sortable\n",
    "- [ ] Add items with `append`\n",
    "- [ ] Add items with `add`\n",
    "\n",
    "\n",
    "\n"
   ]
  },
  {
   "cell_type": "markdown",
   "metadata": {},
   "source": [
    "-------------\n",
    "Check the attributes of a collection for which using a Python set would be appropriate.\n",
    "\n",
    "- [ ] "
   ]
  }
 ],
 "metadata": {
  "kernelspec": {
   "display_name": "Python 3",
   "language": "python",
   "name": "python3"
  },
  "language_info": {
   "codemirror_mode": {
    "name": "ipython",
    "version": 3
   },
   "file_extension": ".py",
   "mimetype": "text/x-python",
   "name": "python",
   "nbconvert_exporter": "python",
   "pygments_lexer": "ipython3",
   "version": "3.7.3"
  }
 },
 "nbformat": 4,
 "nbformat_minor": 2
}
