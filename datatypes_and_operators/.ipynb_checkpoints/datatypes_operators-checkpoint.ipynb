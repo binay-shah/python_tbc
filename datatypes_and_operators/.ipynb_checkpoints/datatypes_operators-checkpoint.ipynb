{
 "cells": [
  {
   "cell_type": "markdown",
   "metadata": {},
   "source": [
    "# Data types and operators\n",
    "\n",
    "Welcome to this lesson on Datatypes and operators! You'll learn about:\n",
    "\n",
    "- Data Types: Integers, Floats, Booleans, Strings\n",
    "- Operators: Arithmetic, Assignment, Comparison, Logical\n",
    "- Built-In Functions, Type Conversion\n",
    "- Whitespace and Style Guidelines\n",
    "----------------------------------------------------------"
   ]
  },
  {
   "cell_type": "code",
   "execution_count": 6,
   "metadata": {},
   "outputs": [
    {
     "name": "stdout",
     "output_type": "stream",
     "text": [
      "8\n",
      "hello world\n"
     ]
    }
   ],
   "source": [
    "print(3+5)\n",
    "print(\"hello world\")"
   ]
  },
  {
   "cell_type": "markdown",
   "metadata": {},
   "source": [
    "**print()** - built in function that displays input value as text in the output"
   ]
  },
  {
   "cell_type": "markdown",
   "metadata": {},
   "source": [
    "# Arithmetic Operators\n",
    "\n",
    "- [ + ] Addition\n",
    "- [ - ] Subtraction\n",
    "- [ * ] Multiplication\n",
    "- [ / ] Division\n",
    "\n",
    "- [ % ] Mod(the remainder after dividing)\n",
    "- [ ** ] Exponentiation\n",
    "- [ // ] Divides and round to the nearest integer\n"
   ]
  },
  {
   "cell_type": "code",
   "execution_count": 7,
   "metadata": {},
   "outputs": [
    {
     "name": "stdout",
     "output_type": "stream",
     "text": [
      "12\n",
      "18\n"
     ]
    }
   ],
   "source": [
    "print( 1 + 2 + 3 * 3) \n",
    "print( (1+ 2 +3) * 3)"
   ]
  },
  {
   "cell_type": "code",
   "execution_count": 8,
   "metadata": {},
   "outputs": [
    {
     "name": "stdout",
     "output_type": "stream",
     "text": [
      "9\n"
     ]
    }
   ],
   "source": [
    "print ( 3 ** 2) "
   ]
  },
  {
   "cell_type": "code",
   "execution_count": 9,
   "metadata": {},
   "outputs": [
    {
     "name": "stdout",
     "output_type": "stream",
     "text": [
      "1\n"
     ]
    }
   ],
   "source": [
    "print ( 9 % 2)"
   ]
  },
  {
   "cell_type": "code",
   "execution_count": 10,
   "metadata": {},
   "outputs": [
    {
     "name": "stdout",
     "output_type": "stream",
     "text": [
      "3\n"
     ]
    }
   ],
   "source": [
    "print( 7 //  2)"
   ]
  },
  {
   "cell_type": "markdown",
   "metadata": {},
   "source": [
    "------------------------------------------------------------------------\n",
    "# Variables and assignment operators\n",
    "\n",
    "### Variables I\n",
    "\n",
    "Variables are used all the time in Python! Below is the example you saw in the video where we performed the following:\n",
    "\n",
    "ktm_population = 29709449\n",
    "\n",
    "Here mv_population is a variable, which holds the value of 29709449. This assigns the item on the right to the name on the left, which is actually a little different than mathematical equality, as 29709449 does not hold the value of ktm_population.\n",
    "\n",
    "In any case, whatever term is on the left side, is now a name for whatever value is on the right side. Once a value has been assigned to a variable name, you can access the value from the variable name."
   ]
  },
  {
   "cell_type": "code",
   "execution_count": 11,
   "metadata": {},
   "outputs": [
    {
     "name": "stdout",
     "output_type": "stream",
     "text": [
      "29709449\n"
     ]
    }
   ],
   "source": [
    "ktm_population = 29709449 \n",
    "\n",
    "print(ktm_population)"
   ]
  },
  {
   "cell_type": "code",
   "execution_count": 12,
   "metadata": {},
   "outputs": [
    {
     "name": "stdout",
     "output_type": "stream",
     "text": [
      "2\n"
     ]
    },
    {
     "ename": "NameError",
     "evalue": "name 'z' is not defined",
     "output_type": "error",
     "traceback": [
      "\u001b[1;31m---------------------------------------------------------------------------\u001b[0m",
      "\u001b[1;31mNameError\u001b[0m                                 Traceback (most recent call last)",
      "\u001b[1;32m<ipython-input-12-134e01f9935e>\u001b[0m in \u001b[0;36m<module>\u001b[1;34m\u001b[0m\n\u001b[0;32m      3\u001b[0m \u001b[0mprint\u001b[0m\u001b[1;33m(\u001b[0m\u001b[0my\u001b[0m\u001b[1;33m)\u001b[0m\u001b[1;33m\u001b[0m\u001b[1;33m\u001b[0m\u001b[0m\n\u001b[0;32m      4\u001b[0m \u001b[1;33m\u001b[0m\u001b[0m\n\u001b[1;32m----> 5\u001b[1;33m \u001b[0mprint\u001b[0m\u001b[1;33m(\u001b[0m\u001b[0mz\u001b[0m\u001b[1;33m)\u001b[0m\u001b[1;33m\u001b[0m\u001b[1;33m\u001b[0m\u001b[0m\n\u001b[0m",
      "\u001b[1;31mNameError\u001b[0m: name 'z' is not defined"
     ]
    }
   ],
   "source": [
    "x = 2\n",
    "y = x\n",
    "print(y)\n",
    "\n",
    "print(z)"
   ]
  },
  {
   "cell_type": "markdown",
   "metadata": {},
   "source": [
    "----------------------------------------------------------------------------------------------------------------------\n",
    "### Variables II\n",
    "\n",
    "However, the above isn't a great way to assign variables in most cases, because our variable names should be descriptive of the values they hold.\n",
    "\n",
    "Besides writing variable names that are descriptive, there are a few things to watch out for when naming variables in Python.\n",
    "\n",
    "1. Only use ordinary letters, numbers and underscores in your variable names. They can’t have spaces, and need to start with a letter or underscore.\n",
    "\n",
    "2. **You can’t use reserved words or built-in identifiers** that have important purposes in Python, which you’ll learn about throughout this course. A list of python reserved words is described here. Creating names that are descriptive of the values often will help you avoid using any of these words. A quick table of these words is also available below.\n",
    "\n",
    "![keywords](../images/keywords_img.png)\n",
    "\n",
    "3. The pythonic way to name variables is to use all lowercase letters and underscores to separate words.\n",
    "\n",
    "**YES**\n",
    "```python\n",
    "my_height = 58\n",
    "my_lat = 40\n",
    "my_long = 105\n",
    "```\n",
    "\n",
    "**NO**\n",
    "```python\n",
    "my height = 58\n",
    "MYLONG = 40\n",
    "MyLat = 105\n",
    "```\n",
    "\n",
    "Though the last two of these would work in python, they are not pythonic ways to name variables. The way we name variables is called snake case, because we tend to connect the words with underscores."
   ]
  },
  {
   "cell_type": "markdown",
   "metadata": {},
   "source": [
    "# Assignment Operators\n",
    "\n",
    "![keywords](../images/assign_operators.png)"
   ]
  },
  {
   "cell_type": "markdown",
   "metadata": {},
   "source": [
    "# Quiz: Assign and Modify Variables\n",
    "\n",
    "Now it's your turn to work with variables. The comments in this quiz (the lines that begin with #) have instructions for creating and modifying variables. After each comment write a line of code that implements the instruction.\n",
    "\n",
    "Note that this code uses scientific notation to define large numbers. 4.445e8 is equal to 4.445 * 10 ** 8 which is equal to 444500000.0."
   ]
  },
  {
   "cell_type": "code",
   "execution_count": 13,
   "metadata": {},
   "outputs": [],
   "source": [
    "# The current volume of a water reservoir (in cubic metres)\n",
    "reservoir_volume = 4.445e8\n",
    "# The amount of rainfall from a storm (in cubic metres)\n",
    "rainfall = 5e6\n",
    "\n",
    "# decrease the rainfall variable by 10% to account for runoff\n",
    "\n",
    "# add the rainfall variable to the reservoir_volume variable\n",
    "\n",
    "# increase reservoir_volume by 5% to account for stormwater that flows\n",
    "# into the reservoir in the days following the storm\n",
    "\n",
    "# decrease reservoir_volume by 5% to account for evaporation\n",
    "\n",
    "# subtract 2.5e5 cubic metres from reservoir_volume to account for water\n",
    "# that's piped to arid regions.\n",
    "\n",
    "# print the new value of the reservoir_volume variable"
   ]
  },
  {
   "cell_type": "markdown",
   "metadata": {},
   "source": [
    "----------------------------------------------------------------------------------------------\n",
    "# Integer and Floats\n",
    "\n",
    "There are two Python data types that could be used for numeric values:\n",
    "\n",
    "1. **int**  - for integer values\n",
    "1. **float** - for decimal or floating point values\n",
    "\n",
    "You can create a value that follows the data type by using the following syntax:\n",
    "\n",
    "```python\n",
    ">>> print(type(x))\n",
    "int\n",
    ">>> print(type(y))\n",
    "float\n",
    "```"
   ]
  },
  {
   "cell_type": "code",
   "execution_count": 15,
   "metadata": {},
   "outputs": [
    {
     "data": {
      "text/plain": [
       "int"
      ]
     },
     "execution_count": 15,
     "metadata": {},
     "output_type": "execute_result"
    }
   ],
   "source": [
    "type(1)\n"
   ]
  },
  {
   "cell_type": "code",
   "execution_count": 16,
   "metadata": {},
   "outputs": [
    {
     "data": {
      "text/plain": [
       "float"
      ]
     },
     "execution_count": 16,
     "metadata": {},
     "output_type": "execute_result"
    }
   ],
   "source": [
    "type(1.0)"
   ]
  },
  {
   "cell_type": "markdown",
   "metadata": {},
   "source": [
    "# Python Best Practices\n",
    "\n",
    "For all the best practices, see the [PEP8 Guidelines.](https://www.python.org/dev/peps/pep-0008/)"
   ]
  },
  {
   "cell_type": "markdown",
   "metadata": {},
   "source": [
    "# Divide By Zero?\n",
    "\n",
    "What happens if you divide by zero in Python? Try it out! Test run this code and see what happens.\n",
    "\n",
    "In general, there are two types of errors to look out for\n",
    "\n",
    "1. **Exceptions**\n",
    "1. **Syntax**\n",
    "\n",
    "An **Exception** is a problem that occurs when the code is running, but a 'Syntax Error' is a problem detected when Python checks the code before it runs it. For more information, see the Python tutorial \n"
   ]
  },
  {
   "cell_type": "code",
   "execution_count": 17,
   "metadata": {},
   "outputs": [
    {
     "ename": "ZeroDivisionError",
     "evalue": "division by zero",
     "output_type": "error",
     "traceback": [
      "\u001b[1;31m---------------------------------------------------------------------------\u001b[0m",
      "\u001b[1;31mZeroDivisionError\u001b[0m                         Traceback (most recent call last)",
      "\u001b[1;32m<ipython-input-17-fad870a50e27>\u001b[0m in \u001b[0;36m<module>\u001b[1;34m\u001b[0m\n\u001b[1;32m----> 1\u001b[1;33m \u001b[0mprint\u001b[0m\u001b[1;33m(\u001b[0m\u001b[1;36m5\u001b[0m\u001b[1;33m/\u001b[0m\u001b[1;36m0\u001b[0m\u001b[1;33m)\u001b[0m\u001b[1;33m\u001b[0m\u001b[1;33m\u001b[0m\u001b[0m\n\u001b[0m",
      "\u001b[1;31mZeroDivisionError\u001b[0m: division by zero"
     ]
    }
   ],
   "source": [
    "print(5/0)"
   ]
  },
  {
   "cell_type": "markdown",
   "metadata": {},
   "source": [
    "# Booleans, Comparison Operators, and Logical Operators\n",
    "\n",
    "The bool data type holds one of the values True or False, which are often encoded as 1 or 0, respectively.\n",
    "\n",
    "There are 6 comparison operators that are common to see in order to obtain a bool value:\n",
    "\n",
    "\n",
    "**Comparison Operators**\n",
    "\n",
    "----------------------------------\n",
    "\n",
    "| Symbol Use case | Bool  | Operation             |\n",
    "|:----------------|:-----|:----------------------|\n",
    "| 5<3             | False | Less Than             |\n",
    "| 5>3             | True  | Greater Than          |\n",
    "| 3<=3            | True  | Less than or equal To |\n",
    "| 3>=5            | False | Greater or Equal To   |\n",
    "| 3==5            | False | Equal To              |\n",
    "| 3!=5            | True  | Not Equal To          |\n",
    "\n",
    "---------------------------------------\n",
    "And there are three logical operators you need to be familiar with:\n",
    "\n",
    "--------------------------------\n",
    "\n",
    "| Logical Use Bool Operation | Bool  | Operation                                                 |\n",
    "|:---------------------------|:------|:----------------------------------------------------------|\n",
    "| 5 < 3  and 5 == 5          | False | and - Evaluates if all provided statements are True       |\n",
    "| 5 < 3  or 5 == 5           | True  | or - Evaluates if at least one of many statements is True |\n",
    "| not 5 < 3                  | False | not - Flips the Bool Value                                |\n",
    "\n"
   ]
  },
  {
   "cell_type": "markdown",
   "metadata": {},
   "source": [
    "---------------------\n",
    "### Quiz: Which is denser, Rio or San Francisco?\n",
    "\n",
    "Try comparison operators in this quiz! This code calculates the population densities of Rio de Janeiro and San Francisco.\n",
    "\n",
    "Write code to compare these densities. Is the population of San Francisco more dense than that of Rio de Janeiro? Print True if it is and False if not.\n",
    "\n",
    "```python\n",
    "sf_population, sf_area = 864816, 231.89\n",
    "rio_population, rio_area = 6453682, 486.5\n",
    "\n",
    "san_francisco_pop_density = sf_population/sf_area\n",
    "rio_de_janeiro_pop_density = rio_population/rio_area\n",
    "\n",
    "# Write code that prints True if San Francisco is denser than Rio, and False otherwise\n",
    "```"
   ]
  },
  {
   "cell_type": "code",
   "execution_count": null,
   "metadata": {},
   "outputs": [],
   "source": [
    "name = \"Hello world\""
   ]
  },
  {
   "cell_type": "code",
   "execution_count": null,
   "metadata": {},
   "outputs": [],
   "source": [
    "print(name)"
   ]
  },
  {
   "cell_type": "code",
   "execution_count": null,
   "metadata": {},
   "outputs": [],
   "source": []
  }
 ],
 "metadata": {
  "kernelspec": {
   "display_name": "Python 3",
   "language": "python",
   "name": "python3"
  },
  "language_info": {
   "codemirror_mode": {
    "name": "ipython",
    "version": 3
   },
   "file_extension": ".py",
   "mimetype": "text/x-python",
   "name": "python",
   "nbconvert_exporter": "python",
   "pygments_lexer": "ipython3",
   "version": "3.7.3"
  }
 },
 "nbformat": 4,
 "nbformat_minor": 2
}
