{
 "cells": [
  {
   "cell_type": "markdown",
   "metadata": {},
   "source": [
    "# Scripting\n",
    "Welcome to this lesson on scripting! You’ll learn about:\n",
    "\n",
    "- Python Installation and Environment Setup\n",
    "- Running and Editing Python Scripts\n",
    "- Interacting with User Input\n",
    "- Handling Exceptions\n",
    "- Reading and Writing Files\n",
    "- Importing Local, Standard, and Third-Party Modules\n",
    "- Experimenting with an Interpreter"
   ]
  },
  {
   "cell_type": "code",
   "execution_count": null,
   "metadata": {},
   "outputs": [],
   "source": []
  }
 ],
 "metadata": {
  "kernelspec": {
   "display_name": "Python 3",
   "language": "python",
   "name": "python3"
  },
  "language_info": {
   "codemirror_mode": {
    "name": "ipython",
    "version": 3
   },
   "file_extension": ".py",
   "mimetype": "text/x-python",
   "name": "python",
   "nbconvert_exporter": "python",
   "pygments_lexer": "ipython3",
   "version": "3.7.3"
  }
 },
 "nbformat": 4,
 "nbformat_minor": 2
}
